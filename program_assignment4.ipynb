{
 "cells": [
  {
   "cell_type": "code",
   "execution_count": null,
   "id": "93193ff2",
   "metadata": {},
   "outputs": [],
   "source": [
    "a = int(input(\"enter a number \\n\"))\n",
    "for i in range(1,11):\n",
    "    print(f\"{a}x{i}={a*i}\")"
   ]
  },
  {
   "cell_type": "code",
   "execution_count": null,
   "id": "c62db60e",
   "metadata": {},
   "outputs": [],
   "source": [
    "# Write a Python Program to Find the Factorial of a Number?\n",
    "a = int(input(\"enter a number \\n\"))\n",
    "b = 1\n",
    "for i in range(1,a):\n",
    "    a = a*i\n",
    "print(\"factorial of a number is\" ,a)"
   ]
  },
  {
   "cell_type": "code",
   "execution_count": null,
   "id": "5b339e74",
   "metadata": {},
   "outputs": [],
   "source": [
    "a = int(input(\"enter a number\"))\n",
    "b = 1\n",
    "c = 1\n",
    "for i in range(1,a+1):\n",
    "    print(b)\n",
    "    b,c = c,b+c"
   ]
  },
  {
   "cell_type": "code",
   "execution_count": null,
   "id": "287fa8ca",
   "metadata": {},
   "outputs": [],
   "source": [
    "# Write a Python Program to Find Armstrong Number in an Interval?\n",
    "a = int(input(\"enter first number \\n\"))\n",
    "b =  int(input(\"enter last number \\n\")) \n",
    "for i in range(a,b+1):\n",
    "    c = i\n",
    "    i = str(i)\n",
    "    sum = 0\n",
    "    power = len(str(i))\n",
    "    while(i!=0):\n",
    "        digit = int(i)%10\n",
    "        sum = sum + (digit)**power\n",
    "        i = int(i)//10\n",
    "    if c ==sum:\n",
    "        print(c)"
   ]
  },
  {
   "cell_type": "code",
   "execution_count": null,
   "id": "89ffe030",
   "metadata": {},
   "outputs": [],
   "source": [
    "# Write a Python Program to Find the Sum of Natural Numbers?\n",
    "a = int(input(\"enter a number\\n\"))\n",
    "b= 0\n",
    "for i in range(1,a+1):\n",
    "    b = b+i\n",
    "print(b)"
   ]
  },
  {
   "cell_type": "code",
   "execution_count": null,
   "id": "95e7b6bb",
   "metadata": {},
   "outputs": [],
   "source": [
    "if int(a)>=153:\n",
    "    for i in (153,int(a)):\n",
    "        l.append(int(i)**3)\n",
    "    if sum(l)==i:\n",
    "        print(\"no is armstrong\")\n",
    "            \n",
    "else:\n",
    "    print(\"enter number greater then 153\")"
   ]
  }
 ],
 "metadata": {
  "kernelspec": {
   "display_name": "Python 3 (ipykernel)",
   "language": "python",
   "name": "python3"
  },
  "language_info": {
   "codemirror_mode": {
    "name": "ipython",
    "version": 3
   },
   "file_extension": ".py",
   "mimetype": "text/x-python",
   "name": "python",
   "nbconvert_exporter": "python",
   "pygments_lexer": "ipython3",
   "version": "3.9.12"
  }
 },
 "nbformat": 4,
 "nbformat_minor": 5
}
